{
 "cells": [
  {
   "cell_type": "code",
   "execution_count": null,
   "metadata": {},
   "outputs": [],
   "source": [
    "# CPSC4383 MNIST homework\n",
    "# Charles McDonald\n",
    "\n",
    "\n",
    "import numpy as np # linear algebra\n",
    "import pandas as pd # data processing, CSV file I/O (e.g. pd.read_csv)\n",
    "from keras.models import Sequential\n",
    "from keras.layers import Dense, Activation, Conv2D, Flatten, MaxPool2D\n",
    "from sklearn.preprocessing import OneHotEncoder\n",
    "# Input data files are available in the \"../input/\" directory.\n",
    "# For example, running this (by clicking run or pressing Shift+Enter) will list all files under the input directory\n",
    "\n",
    "import os\n",
    "for dirname, _, filenames in os.walk('/input'):\n",
    "    for filename in filenames:\n",
    "        print(os.path.join(dirname, filename))\n"
   ]
  },
  {
   "cell_type": "code",
   "execution_count": null,
   "metadata": {},
   "outputs": [],
   "source": [
    "df = pd.read_csv('../input/digit-recognizer/train.csv', dtype=\"float\")\n",
    "X_train = df.iloc[:,1:].values/255.0\n",
    "X_train = X_train.reshape(-1,28,28,1)\n",
    "y_train = df.iloc[:,0].values[:,np.newaxis]\n",
    "onehotencoder = OneHotEncoder(categories='auto')\n",
    "y_train = onehotencoder.fit_transform(y_train).toarray()"
   ]
  },
  {
   "cell_type": "code",
   "execution_count": null,
   "metadata": {},
   "outputs": [],
   "source": [
    "model = Sequential()\n",
    "model.add(Conv2D(32, kernel_size=(5,5), activation='relu', input_shape=(28,28,1)))\n",
    "model.add(MaxPool2D(pool_size=(2, 2)))\n",
    "model.add(Flatten())\n",
    "model.add(Dense(units=200, activation='relu', input_dim=784))\n",
    "model.add(Dense(units=10, activation='softmax'))\n",
    "model.compile(optimizer='rmsprop', loss='categorical_crossentropy', metrics=['accuracy'])\n",
    "model.fit(X_train, y_train, validation_split=0.1, epochs=8, verbose=1)"
   ]
  },
  {
   "cell_type": "code",
   "execution_count": null,
   "metadata": {},
   "outputs": [],
   "source": [
    "df = pd.read_csv('../input/digit-recognizer/test.csv', dtype=\"float\")\n",
    "X_test = df.values/255.0\n",
    "X_test = X_test.reshape(-1,28,28,1)\n",
    "y_pred = model.predict(X_test, verbose=1)\n",
    "y_pred = np.argmax(y_pred, axis = 1)\n",
    "pred = pd.DataFrame({\"ImageId\": range(1,len(y_pred)+1), \"Label\": y_pred})\n",
    "pred.to_csv('results.csv', index=False, header=True)"
   ]
  }
 ],
 "metadata": {
  "kernelspec": {
   "display_name": "Python 3",
   "language": "python",
   "name": "python3"
  },
  "language_info": {
   "codemirror_mode": {
    "name": "ipython",
    "version": 3
   },
   "file_extension": ".py",
   "mimetype": "text/x-python",
   "name": "python",
   "nbconvert_exporter": "python",
   "pygments_lexer": "ipython3",
   "version": "3.7.3"
  }
 },
 "nbformat": 4,
 "nbformat_minor": 2
}
