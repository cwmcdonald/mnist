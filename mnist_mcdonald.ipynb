{
 "cells": [
  {
   "cell_type": "code",
   "execution_count": 2,
   "metadata": {},
   "outputs": [
    {
     "name": "stderr",
     "output_type": "stream",
     "text": [
      "Using TensorFlow backend.\n"
     ]
    }
   ],
   "source": [
    "# CPSC4383 MNIST homework\n",
    "# Charles McDonald\n",
    "\n",
    "\n",
    "import numpy as np \n",
    "import pandas as pd \n",
    "from keras.models import Sequential\n",
    "from keras.layers import Dense, Activation, Conv2D, Flatten, MaxPool2D\n",
    "from sklearn.preprocessing import OneHotEncoder\n",
    "# Input data files are available in the \"./input/\" directory.\n",
    "\n",
    "import os\n",
    "for dirname, _, filenames in os.walk('/input'):\n",
    "    for filename in filenames:\n",
    "        print(os.path.join(dirname, filename))\n"
   ]
  },
  {
   "cell_type": "code",
   "execution_count": 3,
   "metadata": {},
   "outputs": [],
   "source": [
    "df = pd.read_csv('./input/train.csv', dtype=\"float\")\n",
    "X_train = df.iloc[:,1:].values/255.0\n",
    "X_train = X_train.reshape(-1,28,28,1)\n",
    "y_train = df.iloc[:,0].values[:,np.newaxis]\n",
    "onehotencoder = OneHotEncoder(categories='auto')\n",
    "y_train = onehotencoder.fit_transform(y_train).toarray()"
   ]
  },
  {
   "cell_type": "code",
   "execution_count": 4,
   "metadata": {},
   "outputs": [
    {
     "name": "stdout",
     "output_type": "stream",
     "text": [
      "WARNING:tensorflow:From C:\\ProgramData\\Anaconda3\\lib\\site-packages\\keras\\backend\\tensorflow_backend.py:74: The name tf.get_default_graph is deprecated. Please use tf.compat.v1.get_default_graph instead.\n",
      "\n",
      "WARNING:tensorflow:From C:\\ProgramData\\Anaconda3\\lib\\site-packages\\keras\\backend\\tensorflow_backend.py:517: The name tf.placeholder is deprecated. Please use tf.compat.v1.placeholder instead.\n",
      "\n",
      "WARNING:tensorflow:From C:\\ProgramData\\Anaconda3\\lib\\site-packages\\keras\\backend\\tensorflow_backend.py:4138: The name tf.random_uniform is deprecated. Please use tf.random.uniform instead.\n",
      "\n",
      "WARNING:tensorflow:From C:\\ProgramData\\Anaconda3\\lib\\site-packages\\keras\\backend\\tensorflow_backend.py:3976: The name tf.nn.max_pool is deprecated. Please use tf.nn.max_pool2d instead.\n",
      "\n",
      "WARNING:tensorflow:From C:\\ProgramData\\Anaconda3\\lib\\site-packages\\keras\\optimizers.py:790: The name tf.train.Optimizer is deprecated. Please use tf.compat.v1.train.Optimizer instead.\n",
      "\n",
      "WARNING:tensorflow:From C:\\ProgramData\\Anaconda3\\lib\\site-packages\\keras\\backend\\tensorflow_backend.py:3295: The name tf.log is deprecated. Please use tf.math.log instead.\n",
      "\n",
      "WARNING:tensorflow:From C:\\ProgramData\\Anaconda3\\lib\\site-packages\\tensorflow\\python\\ops\\math_grad.py:1250: add_dispatch_support.<locals>.wrapper (from tensorflow.python.ops.array_ops) is deprecated and will be removed in a future version.\n",
      "Instructions for updating:\n",
      "Use tf.where in 2.0, which has the same broadcast rule as np.where\n",
      "WARNING:tensorflow:From C:\\ProgramData\\Anaconda3\\lib\\site-packages\\keras\\backend\\tensorflow_backend.py:986: The name tf.assign_add is deprecated. Please use tf.compat.v1.assign_add instead.\n",
      "\n",
      "Train on 37800 samples, validate on 4200 samples\n",
      "Epoch 1/8\n",
      "37800/37800 [==============================] - 41s 1ms/step - loss: 0.1497 - acc: 0.9551 - val_loss: 0.0737 - val_acc: 0.9755\n",
      "Epoch 2/8\n",
      "37800/37800 [==============================] - 41s 1ms/step - loss: 0.0498 - acc: 0.9852 - val_loss: 0.0517 - val_acc: 0.9840\n",
      "Epoch 3/8\n",
      "37800/37800 [==============================] - 41s 1ms/step - loss: 0.0349 - acc: 0.9897 - val_loss: 0.0474 - val_acc: 0.9857\n",
      "Epoch 4/8\n",
      "37800/37800 [==============================] - 41s 1ms/step - loss: 0.0257 - acc: 0.9924 - val_loss: 0.0405 - val_acc: 0.9867\n",
      "Epoch 5/8\n",
      "37800/37800 [==============================] - 41s 1ms/step - loss: 0.0187 - acc: 0.9945 - val_loss: 0.0565 - val_acc: 0.9857\n",
      "Epoch 6/8\n",
      "37800/37800 [==============================] - 41s 1ms/step - loss: 0.0143 - acc: 0.9961 - val_loss: 0.0614 - val_acc: 0.9850\n",
      "Epoch 7/8\n",
      "37800/37800 [==============================] - 41s 1ms/step - loss: 0.0110 - acc: 0.9970 - val_loss: 0.0552 - val_acc: 0.9888\n",
      "Epoch 8/8\n",
      "37800/37800 [==============================] - 41s 1ms/step - loss: 0.0082 - acc: 0.9975 - val_loss: 0.0515 - val_acc: 0.9883\n"
     ]
    },
    {
     "data": {
      "text/plain": [
       "<keras.callbacks.History at 0x11dadbe0>"
      ]
     },
     "execution_count": 4,
     "metadata": {},
     "output_type": "execute_result"
    }
   ],
   "source": [
    "model = Sequential()\n",
    "model.add(Conv2D(32, kernel_size=(5,5), activation='relu', input_shape=(28,28,1)))\n",
    "model.add(MaxPool2D(pool_size=(2, 2)))\n",
    "model.add(Flatten())\n",
    "model.add(Dense(units=200, activation='relu', input_dim=784))\n",
    "model.add(Dense(units=10, activation='softmax'))\n",
    "model.compile(optimizer='rmsprop', loss='categorical_crossentropy', metrics=['accuracy'])\n",
    "model.fit(X_train, y_train, validation_split=0.1, epochs=8, verbose=1)"
   ]
  },
  {
   "cell_type": "code",
   "execution_count": 5,
   "metadata": {},
   "outputs": [
    {
     "name": "stdout",
     "output_type": "stream",
     "text": [
      "28000/28000 [==============================] - 5s 195us/step\n"
     ]
    }
   ],
   "source": [
    "df = pd.read_csv('./input/test.csv', dtype=\"float\")\n",
    "X_test = df.values/255.0\n",
    "X_test = X_test.reshape(-1,28,28,1)\n",
    "y_pred = model.predict(X_test, verbose=1)\n",
    "y_pred = np.argmax(y_pred, axis = 1)\n",
    "pred = pd.DataFrame({\"ImageId\": range(1,len(y_pred)+1), \"Label\": y_pred})\n",
    "pred.to_csv('./output/results.csv', index=False, header=True)"
   ]
  },
  {
   "cell_type": "code",
   "execution_count": null,
   "metadata": {},
   "outputs": [],
   "source": []
  }
 ],
 "metadata": {
  "kernelspec": {
   "display_name": "Python 3",
   "language": "python",
   "name": "python3"
  },
  "language_info": {
   "codemirror_mode": {
    "name": "ipython",
    "version": 3
   },
   "file_extension": ".py",
   "mimetype": "text/x-python",
   "name": "python",
   "nbconvert_exporter": "python",
   "pygments_lexer": "ipython3",
   "version": "3.7.3"
  }
 },
 "nbformat": 4,
 "nbformat_minor": 2
}
